{
 "cells": [
  {
   "cell_type": "code",
   "execution_count": null,
   "id": "c2cf2fe9-ff8a-44cb-a9a0-639cb27fa509",
   "metadata": {},
   "outputs": [],
   "source": [
    "# TOPIC: Python Basics Variable"
   ]
  },
  {
   "cell_type": "code",
   "execution_count": null,
   "id": "3ede9de1-4321-4302-bb99-9f18f8b73a4e",
   "metadata": {},
   "outputs": [
    {
     "name": "stdout",
     "output_type": "stream",
     "text": [
      "Before Swap\n",
      "Value of x: 75 and Value of y: 45\n",
      "After Swap\n",
      "Value of x: 45 and Value of y: 75\n"
     ]
    }
   ],
   "source": [
    "# PROGRAM1: Program to Swap Variables without temporary variable\n",
    "# Declaration of Variables\n",
    "x = 75\n",
    "y = 45\n",
    "print(\"Before Swap\")\n",
    "print(\"Value of x:\",x, \"and Value of y:\",y)\n",
    "# Code to Swap\n",
    "x,y = y,x\n",
    "print(\"After Swap\")\n",
    "print(\"Value of x:\",x, \"and Value of y:\",y)\n"
   ]
  },
  {
   "cell_type": "code",
   "execution_count": 14,
   "id": "93c80675-b0bf-4e11-a772-a4b942b81d0b",
   "metadata": {
    "scrolled": true,
    "tags": []
   },
   "outputs": [
    {
     "name": "stdout",
     "output_type": "stream",
     "text": [
      "Provide the input for length\n"
     ]
    },
    {
     "name": "stdin",
     "output_type": "stream",
     "text": [
      " 12\n"
     ]
    },
    {
     "name": "stdout",
     "output_type": "stream",
     "text": [
      "Provide the input for width\n"
     ]
    },
    {
     "name": "stdin",
     "output_type": "stream",
     "text": [
      " 6\n"
     ]
    },
    {
     "name": "stdout",
     "output_type": "stream",
     "text": [
      "Storing Variables\n",
      "Value of length: 12.0 and Value of width: 6.0\n",
      "area of rectangle: 72.0\n"
     ]
    }
   ],
   "source": [
    "# PROGRAM2: Program to calculate the area of a rectangle\n",
    "print(\"Provide the input for length\")\n",
    "l = float(input())\n",
    "print(\"Provide the input for width\")\n",
    "w = float(input())\n",
    "print(\"Storing Variables\")\n",
    "print(\"Value of length:\",l, \"and Value of width:\",w)\n",
    "# Code for Area \n",
    "a = l*w\n",
    "print(\"area of rectangle:\",a)\n"
   ]
  },
  {
   "cell_type": "code",
   "execution_count": 15,
   "id": "c9cac578-cdb2-43eb-9e94-b468176b43eb",
   "metadata": {},
   "outputs": [
    {
     "name": "stdout",
     "output_type": "stream",
     "text": [
      "Provide the input for Celsius Temperature\n"
     ]
    },
    {
     "name": "stdin",
     "output_type": "stream",
     "text": [
      " 30\n"
     ]
    },
    {
     "name": "stdout",
     "output_type": "stream",
     "text": [
      "Value of C: 30.0\n",
      "Temperature in Fahrenheit(F)= 86.0\n"
     ]
    }
   ],
   "source": [
    "# PROGRAM3: Program to convert temperatures from Celsius to Fahrenheit\n",
    "print(\"Provide the input for Celsius Temperature\")\n",
    "C = float(input())\n",
    "print(\"Value of C:\",C)\n",
    "# Code for Area \n",
    "F = (C*1.8) + 32\n",
    "print(\"Temperature in Fahrenheit(F)=\",F)\n"
   ]
  },
  {
   "cell_type": "code",
   "execution_count": null,
   "id": "da705b9c-bf0d-40cc-9920-13e9cb3ee185",
   "metadata": {},
   "outputs": [],
   "source": [
    "# TOPIC: String Based Questions"
   ]
  },
  {
   "cell_type": "code",
   "execution_count": 2,
   "id": "6cf1f3f3-3925-4f4b-968b-3f7050a95e31",
   "metadata": {},
   "outputs": [
    {
     "name": "stdout",
     "output_type": "stream",
     "text": [
      "Provide the input for string\n"
     ]
    },
    {
     "name": "stdin",
     "output_type": "stream",
     "text": [
      " Yashwanth\n"
     ]
    },
    {
     "name": "stdout",
     "output_type": "stream",
     "text": [
      "Value of String: Yashwanth\n",
      "Length of the string: 9\n"
     ]
    }
   ],
   "source": [
    "# PROGRAM1: Program to find the Length of the string\n",
    "\n",
    "print(\"Provide the input for string\")\n",
    "s = (input())\n",
    "print(\"Value of String:\",s)\n",
    "# Code for Area \n",
    "l = len(s)\n",
    "print(\"Length of the string:\",l)\n"
   ]
  },
  {
   "cell_type": "code",
   "execution_count": 9,
   "id": "a2c1df51-8f52-4dd5-8ca1-198a1fa8bee7",
   "metadata": {},
   "outputs": [
    {
     "name": "stdout",
     "output_type": "stream",
     "text": [
      "Provide the input for string\n"
     ]
    },
    {
     "name": "stdin",
     "output_type": "stream",
     "text": [
      " I am learning python\n"
     ]
    },
    {
     "name": "stdout",
     "output_type": "stream",
     "text": [
      "Vowels in string:  I a e a i o \n",
      "Number of vowels: 6\n"
     ]
    }
   ],
   "source": [
    "# PROGRAM2: Program to count the number of vowels in the string\n",
    "\n",
    "print(\"Provide the input for string\")\n",
    "s2 = (input())\n",
    "\n",
    "# Code for vowels count\n",
    "vowels = ' '\n",
    "count = 0\n",
    "for i in s2:\n",
    "    if(i=='a' or i=='e' or i=='i' or i=='o' or i=='u' or i=='A' or i=='E' or i=='I' or i=='O' or i=='U'):\n",
    "        vowels = vowels + i +' '\n",
    "        count = count + 1\n",
    "print(\"Vowels in string:\",vowels)\n",
    "print(\"Number of vowels:\",count)\n"
   ]
  },
  {
   "cell_type": "code",
   "execution_count": 11,
   "id": "aea39ce6-e24e-40ef-8669-8293be6ff4ec",
   "metadata": {},
   "outputs": [
    {
     "name": "stdout",
     "output_type": "stream",
     "text": [
      "Provide the input for string\n"
     ]
    },
    {
     "name": "stdin",
     "output_type": "stream",
     "text": [
      " I am learning python\n"
     ]
    },
    {
     "name": "stdout",
     "output_type": "stream",
     "text": [
      "Original string: I am learning python\n",
      "Reversed string: nohtyp gninrael ma I\n"
     ]
    }
   ],
   "source": [
    "# PROGRAM3: Program to reverse the characters in the string\n",
    "\n",
    "print(\"Provide the input for string\")\n",
    "s3 = (input())\n",
    "print(\"Original string:\",s3)\n",
    "\n",
    "# Code for Reverse String\n",
    "s3 = s3[::-1]\n",
    "print(\"Reversed string:\",s3)"
   ]
  },
  {
   "cell_type": "code",
   "execution_count": 18,
   "id": "9b3b4421-ab6e-45c5-8b7d-badcef019994",
   "metadata": {},
   "outputs": [
    {
     "name": "stdout",
     "output_type": "stream",
     "text": [
      "Provide the input for string\n"
     ]
    },
    {
     "name": "stdin",
     "output_type": "stream",
     "text": [
      " malayalam\n"
     ]
    },
    {
     "name": "stdout",
     "output_type": "stream",
     "text": [
      "Original string: malayalam\n",
      "Modified string: malayalam\n",
      "Yes\n"
     ]
    }
   ],
   "source": [
    "# PROGRAM4: Program to check whether string is a palindrome\n",
    "\n",
    "print(\"Provide the input for string\")\n",
    "s4 = (input())\n",
    "print(\"Original string:\",s4)\n",
    "\n",
    "# Code for palindrome\n",
    "s5 = s4[::-1]\n",
    "print(\"Modified string:\",s5)\n",
    "if (s4 == s5):\n",
    "    print(\"Yes\")\n",
    "else:\n",
    "    print(\"No\")"
   ]
  },
  {
   "cell_type": "code",
   "execution_count": 21,
   "id": "f80f9c35-c563-4ae1-b727-e8aae7b47cdb",
   "metadata": {},
   "outputs": [
    {
     "name": "stdout",
     "output_type": "stream",
     "text": [
      "Provide the input for string\n"
     ]
    },
    {
     "name": "stdin",
     "output_type": "stream",
     "text": [
      " I am learning python\n"
     ]
    },
    {
     "name": "stdout",
     "output_type": "stream",
     "text": [
      "Original string: I am learning python\n",
      "Modified string: Iamlearningpython\n"
     ]
    }
   ],
   "source": [
    "# PROGRAM4: Program for string without spaces\n",
    "\n",
    "print(\"Provide the input for string\")\n",
    "s6 = (input())\n",
    "print(\"Original string:\",s6)\n",
    "\n",
    "# Code for no spaces\n",
    "s6 = s6. replace(' ', '')\n",
    "print(\"Modified string:\",s6)"
   ]
  }
 ],
 "metadata": {
  "kernelspec": {
   "display_name": "Python 3 (ipykernel)",
   "language": "python",
   "name": "python3"
  },
  "language_info": {
   "codemirror_mode": {
    "name": "ipython",
    "version": 3
   },
   "file_extension": ".py",
   "mimetype": "text/x-python",
   "name": "python",
   "nbconvert_exporter": "python",
   "pygments_lexer": "ipython3",
   "version": "3.10.8"
  }
 },
 "nbformat": 4,
 "nbformat_minor": 5
}
